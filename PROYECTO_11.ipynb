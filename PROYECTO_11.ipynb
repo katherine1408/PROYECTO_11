{
 "cells": [
  {
   "cell_type": "markdown",
   "metadata": {},
   "source": [
    "# OilyGian"
   ]
  },
  {
   "cell_type": "markdown",
   "metadata": {},
   "source": [
    "* Trabajas en la compañía de extracción de petróleo OilyGiant. Tu tarea es encontrar los mejores lugares donde abrir 200 pozos nuevos de petróleo.  \n",
    "* Tienes datos sobre muestras de crudo de tres regiones. Ya se conocen los parámetros de cada pozo petrolero de la región. Crea un modelo que ayude a elegir la región con el mayor margen de beneficio."
   ]
  },
  {
   "cell_type": "markdown",
   "metadata": {},
   "source": [
    "## Análisis exploratorio de datos (Python):"
   ]
  },
  {
   "cell_type": "markdown",
   "metadata": {},
   "source": [
    "### Inicialización:"
   ]
  },
  {
   "cell_type": "code",
   "execution_count": 1,
   "metadata": {},
   "outputs": [],
   "source": [
    "# Importamos las librerías necesarias :\n",
    "import pandas as pd\n",
    "import numpy as np\n",
    "from sklearn.model_selection import train_test_split\n",
    "from sklearn.linear_model import LinearRegression\n",
    "from sklearn.metrics import mean_squared_error\n",
    "from scipy.stats import bootstrap\n"
   ]
  },
  {
   "cell_type": "markdown",
   "metadata": {},
   "source": [
    "### Cargar Datos:"
   ]
  },
  {
   "cell_type": "code",
   "execution_count": 2,
   "metadata": {},
   "outputs": [],
   "source": [
    "\n",
    "# Cargar los datos:\n",
    "\n",
    "geo_0 = pd.read_csv('geo_data_0.csv')\n",
    "geo_1 = pd.read_csv('geo_data_1.csv')\n",
    "geo_2 = pd.read_csv('geo_data_2.csv')"
   ]
  },
  {
   "cell_type": "code",
   "execution_count": 3,
   "metadata": {},
   "outputs": [
    {
     "data": {
      "text/html": [
       "<div>\n",
       "<style scoped>\n",
       "    .dataframe tbody tr th:only-of-type {\n",
       "        vertical-align: middle;\n",
       "    }\n",
       "\n",
       "    .dataframe tbody tr th {\n",
       "        vertical-align: top;\n",
       "    }\n",
       "\n",
       "    .dataframe thead th {\n",
       "        text-align: right;\n",
       "    }\n",
       "</style>\n",
       "<table border=\"1\" class=\"dataframe\">\n",
       "  <thead>\n",
       "    <tr style=\"text-align: right;\">\n",
       "      <th></th>\n",
       "      <th>id</th>\n",
       "      <th>f0</th>\n",
       "      <th>f1</th>\n",
       "      <th>f2</th>\n",
       "      <th>product</th>\n",
       "    </tr>\n",
       "  </thead>\n",
       "  <tbody>\n",
       "    <tr>\n",
       "      <th>0</th>\n",
       "      <td>txEyH</td>\n",
       "      <td>0.705745</td>\n",
       "      <td>-0.497823</td>\n",
       "      <td>1.221170</td>\n",
       "      <td>105.280062</td>\n",
       "    </tr>\n",
       "    <tr>\n",
       "      <th>1</th>\n",
       "      <td>2acmU</td>\n",
       "      <td>1.334711</td>\n",
       "      <td>-0.340164</td>\n",
       "      <td>4.365080</td>\n",
       "      <td>73.037750</td>\n",
       "    </tr>\n",
       "    <tr>\n",
       "      <th>2</th>\n",
       "      <td>409Wp</td>\n",
       "      <td>1.022732</td>\n",
       "      <td>0.151990</td>\n",
       "      <td>1.419926</td>\n",
       "      <td>85.265647</td>\n",
       "    </tr>\n",
       "    <tr>\n",
       "      <th>3</th>\n",
       "      <td>iJLyR</td>\n",
       "      <td>-0.032172</td>\n",
       "      <td>0.139033</td>\n",
       "      <td>2.978566</td>\n",
       "      <td>168.620776</td>\n",
       "    </tr>\n",
       "    <tr>\n",
       "      <th>4</th>\n",
       "      <td>Xdl7t</td>\n",
       "      <td>1.988431</td>\n",
       "      <td>0.155413</td>\n",
       "      <td>4.751769</td>\n",
       "      <td>154.036647</td>\n",
       "    </tr>\n",
       "  </tbody>\n",
       "</table>\n",
       "</div>"
      ],
      "text/plain": [
       "      id        f0        f1        f2     product\n",
       "0  txEyH  0.705745 -0.497823  1.221170  105.280062\n",
       "1  2acmU  1.334711 -0.340164  4.365080   73.037750\n",
       "2  409Wp  1.022732  0.151990  1.419926   85.265647\n",
       "3  iJLyR -0.032172  0.139033  2.978566  168.620776\n",
       "4  Xdl7t  1.988431  0.155413  4.751769  154.036647"
      ]
     },
     "metadata": {},
     "output_type": "display_data"
    },
    {
     "data": {
      "text/html": [
       "<div>\n",
       "<style scoped>\n",
       "    .dataframe tbody tr th:only-of-type {\n",
       "        vertical-align: middle;\n",
       "    }\n",
       "\n",
       "    .dataframe tbody tr th {\n",
       "        vertical-align: top;\n",
       "    }\n",
       "\n",
       "    .dataframe thead th {\n",
       "        text-align: right;\n",
       "    }\n",
       "</style>\n",
       "<table border=\"1\" class=\"dataframe\">\n",
       "  <thead>\n",
       "    <tr style=\"text-align: right;\">\n",
       "      <th></th>\n",
       "      <th>id</th>\n",
       "      <th>f0</th>\n",
       "      <th>f1</th>\n",
       "      <th>f2</th>\n",
       "      <th>product</th>\n",
       "    </tr>\n",
       "  </thead>\n",
       "  <tbody>\n",
       "    <tr>\n",
       "      <th>0</th>\n",
       "      <td>kBEdx</td>\n",
       "      <td>-15.001348</td>\n",
       "      <td>-8.276000</td>\n",
       "      <td>-0.005876</td>\n",
       "      <td>3.179103</td>\n",
       "    </tr>\n",
       "    <tr>\n",
       "      <th>1</th>\n",
       "      <td>62mP7</td>\n",
       "      <td>14.272088</td>\n",
       "      <td>-3.475083</td>\n",
       "      <td>0.999183</td>\n",
       "      <td>26.953261</td>\n",
       "    </tr>\n",
       "    <tr>\n",
       "      <th>2</th>\n",
       "      <td>vyE1P</td>\n",
       "      <td>6.263187</td>\n",
       "      <td>-5.948386</td>\n",
       "      <td>5.001160</td>\n",
       "      <td>134.766305</td>\n",
       "    </tr>\n",
       "    <tr>\n",
       "      <th>3</th>\n",
       "      <td>KcrkZ</td>\n",
       "      <td>-13.081196</td>\n",
       "      <td>-11.506057</td>\n",
       "      <td>4.999415</td>\n",
       "      <td>137.945408</td>\n",
       "    </tr>\n",
       "    <tr>\n",
       "      <th>4</th>\n",
       "      <td>AHL4O</td>\n",
       "      <td>12.702195</td>\n",
       "      <td>-8.147433</td>\n",
       "      <td>5.004363</td>\n",
       "      <td>134.766305</td>\n",
       "    </tr>\n",
       "  </tbody>\n",
       "</table>\n",
       "</div>"
      ],
      "text/plain": [
       "      id         f0         f1        f2     product\n",
       "0  kBEdx -15.001348  -8.276000 -0.005876    3.179103\n",
       "1  62mP7  14.272088  -3.475083  0.999183   26.953261\n",
       "2  vyE1P   6.263187  -5.948386  5.001160  134.766305\n",
       "3  KcrkZ -13.081196 -11.506057  4.999415  137.945408\n",
       "4  AHL4O  12.702195  -8.147433  5.004363  134.766305"
      ]
     },
     "metadata": {},
     "output_type": "display_data"
    },
    {
     "data": {
      "text/html": [
       "<div>\n",
       "<style scoped>\n",
       "    .dataframe tbody tr th:only-of-type {\n",
       "        vertical-align: middle;\n",
       "    }\n",
       "\n",
       "    .dataframe tbody tr th {\n",
       "        vertical-align: top;\n",
       "    }\n",
       "\n",
       "    .dataframe thead th {\n",
       "        text-align: right;\n",
       "    }\n",
       "</style>\n",
       "<table border=\"1\" class=\"dataframe\">\n",
       "  <thead>\n",
       "    <tr style=\"text-align: right;\">\n",
       "      <th></th>\n",
       "      <th>id</th>\n",
       "      <th>f0</th>\n",
       "      <th>f1</th>\n",
       "      <th>f2</th>\n",
       "      <th>product</th>\n",
       "    </tr>\n",
       "  </thead>\n",
       "  <tbody>\n",
       "    <tr>\n",
       "      <th>0</th>\n",
       "      <td>fwXo0</td>\n",
       "      <td>-1.146987</td>\n",
       "      <td>0.963328</td>\n",
       "      <td>-0.828965</td>\n",
       "      <td>27.758673</td>\n",
       "    </tr>\n",
       "    <tr>\n",
       "      <th>1</th>\n",
       "      <td>WJtFt</td>\n",
       "      <td>0.262778</td>\n",
       "      <td>0.269839</td>\n",
       "      <td>-2.530187</td>\n",
       "      <td>56.069697</td>\n",
       "    </tr>\n",
       "    <tr>\n",
       "      <th>2</th>\n",
       "      <td>ovLUW</td>\n",
       "      <td>0.194587</td>\n",
       "      <td>0.289035</td>\n",
       "      <td>-5.586433</td>\n",
       "      <td>62.871910</td>\n",
       "    </tr>\n",
       "    <tr>\n",
       "      <th>3</th>\n",
       "      <td>q6cA6</td>\n",
       "      <td>2.236060</td>\n",
       "      <td>-0.553760</td>\n",
       "      <td>0.930038</td>\n",
       "      <td>114.572842</td>\n",
       "    </tr>\n",
       "    <tr>\n",
       "      <th>4</th>\n",
       "      <td>WPMUX</td>\n",
       "      <td>-0.515993</td>\n",
       "      <td>1.716266</td>\n",
       "      <td>5.899011</td>\n",
       "      <td>149.600746</td>\n",
       "    </tr>\n",
       "  </tbody>\n",
       "</table>\n",
       "</div>"
      ],
      "text/plain": [
       "      id        f0        f1        f2     product\n",
       "0  fwXo0 -1.146987  0.963328 -0.828965   27.758673\n",
       "1  WJtFt  0.262778  0.269839 -2.530187   56.069697\n",
       "2  ovLUW  0.194587  0.289035 -5.586433   62.871910\n",
       "3  q6cA6  2.236060 -0.553760  0.930038  114.572842\n",
       "4  WPMUX -0.515993  1.716266  5.899011  149.600746"
      ]
     },
     "metadata": {},
     "output_type": "display_data"
    }
   ],
   "source": [
    "# Verificamos la estructura y las primeras filas de cada archivo:\n",
    "\n",
    "display(geo_0.head())\n",
    "display(geo_1.head())\n",
    "display(geo_2.head())"
   ]
  },
  {
   "cell_type": "markdown",
   "metadata": {},
   "source": [
    "### Estudiar los datos que contienen:"
   ]
  },
  {
   "cell_type": "code",
   "execution_count": 4,
   "metadata": {},
   "outputs": [
    {
     "name": "stdout",
     "output_type": "stream",
     "text": [
      "<class 'pandas.core.frame.DataFrame'>\n",
      "RangeIndex: 100000 entries, 0 to 99999\n",
      "Data columns (total 5 columns):\n",
      " #   Column   Non-Null Count   Dtype  \n",
      "---  ------   --------------   -----  \n",
      " 0   id       100000 non-null  object \n",
      " 1   f0       100000 non-null  float64\n",
      " 2   f1       100000 non-null  float64\n",
      " 3   f2       100000 non-null  float64\n",
      " 4   product  100000 non-null  float64\n",
      "dtypes: float64(4), object(1)\n",
      "memory usage: 3.8+ MB\n",
      "<class 'pandas.core.frame.DataFrame'>\n",
      "RangeIndex: 100000 entries, 0 to 99999\n",
      "Data columns (total 5 columns):\n",
      " #   Column   Non-Null Count   Dtype  \n",
      "---  ------   --------------   -----  \n",
      " 0   id       100000 non-null  object \n",
      " 1   f0       100000 non-null  float64\n",
      " 2   f1       100000 non-null  float64\n",
      " 3   f2       100000 non-null  float64\n",
      " 4   product  100000 non-null  float64\n",
      "dtypes: float64(4), object(1)\n",
      "memory usage: 3.8+ MB\n",
      "<class 'pandas.core.frame.DataFrame'>\n",
      "RangeIndex: 100000 entries, 0 to 99999\n",
      "Data columns (total 5 columns):\n",
      " #   Column   Non-Null Count   Dtype  \n",
      "---  ------   --------------   -----  \n",
      " 0   id       100000 non-null  object \n",
      " 1   f0       100000 non-null  float64\n",
      " 2   f1       100000 non-null  float64\n",
      " 3   f2       100000 non-null  float64\n",
      " 4   product  100000 non-null  float64\n",
      "dtypes: float64(4), object(1)\n",
      "memory usage: 3.8+ MB\n"
     ]
    }
   ],
   "source": [
    "geo_0.info()\n",
    "geo_1.info()\n",
    "geo_2.info()"
   ]
  },
  {
   "cell_type": "code",
   "execution_count": 5,
   "metadata": {},
   "outputs": [
    {
     "data": {
      "text/html": [
       "<div>\n",
       "<style scoped>\n",
       "    .dataframe tbody tr th:only-of-type {\n",
       "        vertical-align: middle;\n",
       "    }\n",
       "\n",
       "    .dataframe tbody tr th {\n",
       "        vertical-align: top;\n",
       "    }\n",
       "\n",
       "    .dataframe thead th {\n",
       "        text-align: right;\n",
       "    }\n",
       "</style>\n",
       "<table border=\"1\" class=\"dataframe\">\n",
       "  <thead>\n",
       "    <tr style=\"text-align: right;\">\n",
       "      <th></th>\n",
       "      <th>f0</th>\n",
       "      <th>f1</th>\n",
       "      <th>f2</th>\n",
       "      <th>product</th>\n",
       "    </tr>\n",
       "  </thead>\n",
       "  <tbody>\n",
       "    <tr>\n",
       "      <th>count</th>\n",
       "      <td>100000.000000</td>\n",
       "      <td>100000.000000</td>\n",
       "      <td>100000.000000</td>\n",
       "      <td>100000.000000</td>\n",
       "    </tr>\n",
       "    <tr>\n",
       "      <th>mean</th>\n",
       "      <td>0.500419</td>\n",
       "      <td>0.250143</td>\n",
       "      <td>2.502647</td>\n",
       "      <td>92.500000</td>\n",
       "    </tr>\n",
       "    <tr>\n",
       "      <th>std</th>\n",
       "      <td>0.871832</td>\n",
       "      <td>0.504433</td>\n",
       "      <td>3.248248</td>\n",
       "      <td>44.288691</td>\n",
       "    </tr>\n",
       "    <tr>\n",
       "      <th>min</th>\n",
       "      <td>-1.408605</td>\n",
       "      <td>-0.848218</td>\n",
       "      <td>-12.088328</td>\n",
       "      <td>0.000000</td>\n",
       "    </tr>\n",
       "    <tr>\n",
       "      <th>25%</th>\n",
       "      <td>-0.072580</td>\n",
       "      <td>-0.200881</td>\n",
       "      <td>0.287748</td>\n",
       "      <td>56.497507</td>\n",
       "    </tr>\n",
       "    <tr>\n",
       "      <th>50%</th>\n",
       "      <td>0.502360</td>\n",
       "      <td>0.250252</td>\n",
       "      <td>2.515969</td>\n",
       "      <td>91.849972</td>\n",
       "    </tr>\n",
       "    <tr>\n",
       "      <th>75%</th>\n",
       "      <td>1.073581</td>\n",
       "      <td>0.700646</td>\n",
       "      <td>4.715088</td>\n",
       "      <td>128.564089</td>\n",
       "    </tr>\n",
       "    <tr>\n",
       "      <th>max</th>\n",
       "      <td>2.362331</td>\n",
       "      <td>1.343769</td>\n",
       "      <td>16.003790</td>\n",
       "      <td>185.364347</td>\n",
       "    </tr>\n",
       "  </tbody>\n",
       "</table>\n",
       "</div>"
      ],
      "text/plain": [
       "                  f0             f1             f2        product\n",
       "count  100000.000000  100000.000000  100000.000000  100000.000000\n",
       "mean        0.500419       0.250143       2.502647      92.500000\n",
       "std         0.871832       0.504433       3.248248      44.288691\n",
       "min        -1.408605      -0.848218     -12.088328       0.000000\n",
       "25%        -0.072580      -0.200881       0.287748      56.497507\n",
       "50%         0.502360       0.250252       2.515969      91.849972\n",
       "75%         1.073581       0.700646       4.715088     128.564089\n",
       "max         2.362331       1.343769      16.003790     185.364347"
      ]
     },
     "execution_count": 5,
     "metadata": {},
     "output_type": "execute_result"
    }
   ],
   "source": [
    "geo_0.describe()"
   ]
  },
  {
   "cell_type": "code",
   "execution_count": 6,
   "metadata": {},
   "outputs": [
    {
     "data": {
      "text/html": [
       "<div>\n",
       "<style scoped>\n",
       "    .dataframe tbody tr th:only-of-type {\n",
       "        vertical-align: middle;\n",
       "    }\n",
       "\n",
       "    .dataframe tbody tr th {\n",
       "        vertical-align: top;\n",
       "    }\n",
       "\n",
       "    .dataframe thead th {\n",
       "        text-align: right;\n",
       "    }\n",
       "</style>\n",
       "<table border=\"1\" class=\"dataframe\">\n",
       "  <thead>\n",
       "    <tr style=\"text-align: right;\">\n",
       "      <th></th>\n",
       "      <th>f0</th>\n",
       "      <th>f1</th>\n",
       "      <th>f2</th>\n",
       "      <th>product</th>\n",
       "    </tr>\n",
       "  </thead>\n",
       "  <tbody>\n",
       "    <tr>\n",
       "      <th>count</th>\n",
       "      <td>100000.000000</td>\n",
       "      <td>100000.000000</td>\n",
       "      <td>100000.000000</td>\n",
       "      <td>100000.000000</td>\n",
       "    </tr>\n",
       "    <tr>\n",
       "      <th>mean</th>\n",
       "      <td>1.141296</td>\n",
       "      <td>-4.796579</td>\n",
       "      <td>2.494541</td>\n",
       "      <td>68.825000</td>\n",
       "    </tr>\n",
       "    <tr>\n",
       "      <th>std</th>\n",
       "      <td>8.965932</td>\n",
       "      <td>5.119872</td>\n",
       "      <td>1.703572</td>\n",
       "      <td>45.944423</td>\n",
       "    </tr>\n",
       "    <tr>\n",
       "      <th>min</th>\n",
       "      <td>-31.609576</td>\n",
       "      <td>-26.358598</td>\n",
       "      <td>-0.018144</td>\n",
       "      <td>0.000000</td>\n",
       "    </tr>\n",
       "    <tr>\n",
       "      <th>25%</th>\n",
       "      <td>-6.298551</td>\n",
       "      <td>-8.267985</td>\n",
       "      <td>1.000021</td>\n",
       "      <td>26.953261</td>\n",
       "    </tr>\n",
       "    <tr>\n",
       "      <th>50%</th>\n",
       "      <td>1.153055</td>\n",
       "      <td>-4.813172</td>\n",
       "      <td>2.011479</td>\n",
       "      <td>57.085625</td>\n",
       "    </tr>\n",
       "    <tr>\n",
       "      <th>75%</th>\n",
       "      <td>8.621015</td>\n",
       "      <td>-1.332816</td>\n",
       "      <td>3.999904</td>\n",
       "      <td>107.813044</td>\n",
       "    </tr>\n",
       "    <tr>\n",
       "      <th>max</th>\n",
       "      <td>29.421755</td>\n",
       "      <td>18.734063</td>\n",
       "      <td>5.019721</td>\n",
       "      <td>137.945408</td>\n",
       "    </tr>\n",
       "  </tbody>\n",
       "</table>\n",
       "</div>"
      ],
      "text/plain": [
       "                  f0             f1             f2        product\n",
       "count  100000.000000  100000.000000  100000.000000  100000.000000\n",
       "mean        1.141296      -4.796579       2.494541      68.825000\n",
       "std         8.965932       5.119872       1.703572      45.944423\n",
       "min       -31.609576     -26.358598      -0.018144       0.000000\n",
       "25%        -6.298551      -8.267985       1.000021      26.953261\n",
       "50%         1.153055      -4.813172       2.011479      57.085625\n",
       "75%         8.621015      -1.332816       3.999904     107.813044\n",
       "max        29.421755      18.734063       5.019721     137.945408"
      ]
     },
     "execution_count": 6,
     "metadata": {},
     "output_type": "execute_result"
    }
   ],
   "source": [
    "geo_1.describe()"
   ]
  },
  {
   "cell_type": "code",
   "execution_count": 7,
   "metadata": {},
   "outputs": [
    {
     "data": {
      "text/html": [
       "<div>\n",
       "<style scoped>\n",
       "    .dataframe tbody tr th:only-of-type {\n",
       "        vertical-align: middle;\n",
       "    }\n",
       "\n",
       "    .dataframe tbody tr th {\n",
       "        vertical-align: top;\n",
       "    }\n",
       "\n",
       "    .dataframe thead th {\n",
       "        text-align: right;\n",
       "    }\n",
       "</style>\n",
       "<table border=\"1\" class=\"dataframe\">\n",
       "  <thead>\n",
       "    <tr style=\"text-align: right;\">\n",
       "      <th></th>\n",
       "      <th>f0</th>\n",
       "      <th>f1</th>\n",
       "      <th>f2</th>\n",
       "      <th>product</th>\n",
       "    </tr>\n",
       "  </thead>\n",
       "  <tbody>\n",
       "    <tr>\n",
       "      <th>count</th>\n",
       "      <td>100000.000000</td>\n",
       "      <td>100000.000000</td>\n",
       "      <td>100000.000000</td>\n",
       "      <td>100000.000000</td>\n",
       "    </tr>\n",
       "    <tr>\n",
       "      <th>mean</th>\n",
       "      <td>0.002023</td>\n",
       "      <td>-0.002081</td>\n",
       "      <td>2.495128</td>\n",
       "      <td>95.000000</td>\n",
       "    </tr>\n",
       "    <tr>\n",
       "      <th>std</th>\n",
       "      <td>1.732045</td>\n",
       "      <td>1.730417</td>\n",
       "      <td>3.473445</td>\n",
       "      <td>44.749921</td>\n",
       "    </tr>\n",
       "    <tr>\n",
       "      <th>min</th>\n",
       "      <td>-8.760004</td>\n",
       "      <td>-7.084020</td>\n",
       "      <td>-11.970335</td>\n",
       "      <td>0.000000</td>\n",
       "    </tr>\n",
       "    <tr>\n",
       "      <th>25%</th>\n",
       "      <td>-1.162288</td>\n",
       "      <td>-1.174820</td>\n",
       "      <td>0.130359</td>\n",
       "      <td>59.450441</td>\n",
       "    </tr>\n",
       "    <tr>\n",
       "      <th>50%</th>\n",
       "      <td>0.009424</td>\n",
       "      <td>-0.009482</td>\n",
       "      <td>2.484236</td>\n",
       "      <td>94.925613</td>\n",
       "    </tr>\n",
       "    <tr>\n",
       "      <th>75%</th>\n",
       "      <td>1.158535</td>\n",
       "      <td>1.163678</td>\n",
       "      <td>4.858794</td>\n",
       "      <td>130.595027</td>\n",
       "    </tr>\n",
       "    <tr>\n",
       "      <th>max</th>\n",
       "      <td>7.238262</td>\n",
       "      <td>7.844801</td>\n",
       "      <td>16.739402</td>\n",
       "      <td>190.029838</td>\n",
       "    </tr>\n",
       "  </tbody>\n",
       "</table>\n",
       "</div>"
      ],
      "text/plain": [
       "                  f0             f1             f2        product\n",
       "count  100000.000000  100000.000000  100000.000000  100000.000000\n",
       "mean        0.002023      -0.002081       2.495128      95.000000\n",
       "std         1.732045       1.730417       3.473445      44.749921\n",
       "min        -8.760004      -7.084020     -11.970335       0.000000\n",
       "25%        -1.162288      -1.174820       0.130359      59.450441\n",
       "50%         0.009424      -0.009482       2.484236      94.925613\n",
       "75%         1.158535       1.163678       4.858794     130.595027\n",
       "max         7.238262       7.844801      16.739402     190.029838"
      ]
     },
     "execution_count": 7,
     "metadata": {},
     "output_type": "execute_result"
    }
   ],
   "source": [
    "geo_2.describe()"
   ]
  },
  {
   "cell_type": "markdown",
   "metadata": {},
   "source": [
    "## Preparar los datos:"
   ]
  },
  {
   "cell_type": "markdown",
   "metadata": {},
   "source": [
    "### Revisión de datos duplicados:"
   ]
  },
  {
   "cell_type": "code",
   "execution_count": 8,
   "metadata": {},
   "outputs": [
    {
     "data": {
      "text/plain": [
       "np.int64(0)"
      ]
     },
     "execution_count": 8,
     "metadata": {},
     "output_type": "execute_result"
    }
   ],
   "source": [
    "geo_0.duplicated().sum()"
   ]
  },
  {
   "cell_type": "code",
   "execution_count": 9,
   "metadata": {},
   "outputs": [
    {
     "data": {
      "text/plain": [
       "np.int64(0)"
      ]
     },
     "execution_count": 9,
     "metadata": {},
     "output_type": "execute_result"
    }
   ],
   "source": [
    "geo_1.duplicated().sum()"
   ]
  },
  {
   "cell_type": "code",
   "execution_count": 10,
   "metadata": {},
   "outputs": [
    {
     "data": {
      "text/plain": [
       "np.int64(0)"
      ]
     },
     "execution_count": 10,
     "metadata": {},
     "output_type": "execute_result"
    }
   ],
   "source": [
    "geo_2.duplicated().sum()"
   ]
  },
  {
   "cell_type": "markdown",
   "metadata": {},
   "source": [
    "### Revisión de datos nulos:"
   ]
  },
  {
   "cell_type": "code",
   "execution_count": 11,
   "metadata": {},
   "outputs": [
    {
     "data": {
      "text/plain": [
       "id         0\n",
       "f0         0\n",
       "f1         0\n",
       "f2         0\n",
       "product    0\n",
       "dtype: int64"
      ]
     },
     "execution_count": 11,
     "metadata": {},
     "output_type": "execute_result"
    }
   ],
   "source": [
    "geo_0.isna().sum()"
   ]
  },
  {
   "cell_type": "code",
   "execution_count": 12,
   "metadata": {},
   "outputs": [
    {
     "data": {
      "text/plain": [
       "id         0\n",
       "f0         0\n",
       "f1         0\n",
       "f2         0\n",
       "product    0\n",
       "dtype: int64"
      ]
     },
     "execution_count": 12,
     "metadata": {},
     "output_type": "execute_result"
    }
   ],
   "source": [
    "geo_1.isna().sum()"
   ]
  },
  {
   "cell_type": "code",
   "execution_count": 13,
   "metadata": {},
   "outputs": [
    {
     "data": {
      "text/plain": [
       "id         0\n",
       "f0         0\n",
       "f1         0\n",
       "f2         0\n",
       "product    0\n",
       "dtype: int64"
      ]
     },
     "execution_count": 13,
     "metadata": {},
     "output_type": "execute_result"
    }
   ],
   "source": [
    "geo_2.isna().sum()"
   ]
  },
  {
   "cell_type": "code",
   "execution_count": 14,
   "metadata": {},
   "outputs": [],
   "source": [
    "state = np.random.RandomState(54321)"
   ]
  },
  {
   "cell_type": "markdown",
   "metadata": {},
   "source": [
    "## Analisis de Datos:"
   ]
  },
  {
   "cell_type": "markdown",
   "metadata": {},
   "source": [
    "### Segmentación de datos:"
   ]
  },
  {
   "cell_type": "markdown",
   "metadata": {},
   "source": [
    "Train-Test Split: Utilicé la función train_test_split() para dividir los datos en conjuntos de entrenamiento y prueba, con el 75% de los datos para el entrenamiento y el 25% para la prueba"
   ]
  },
  {
   "cell_type": "code",
   "execution_count": 15,
   "metadata": {},
   "outputs": [],
   "source": [
    "# Función para preparar los datos y dividirlos en conjunto de entrenamiento y validación:\n",
    "\n",
    "def preparar_datos (data):\n",
    "    features = data[['f0', 'f1', 'f2']]\n",
    "    target = data['product']\n",
    "    return train_test_split(features, target, test_size=0.25, random_state=state)\n"
   ]
  },
  {
   "cell_type": "markdown",
   "metadata": {},
   "source": [
    "### Entrenamiento (Modelo de Regresión):"
   ]
  },
  {
   "cell_type": "code",
   "execution_count": 16,
   "metadata": {},
   "outputs": [],
   "source": [
    "# Función para entrenar el modelo de regresión lineal y predecir:\n",
    "\n",
    "def entrenar_modelo(features_train, features_valid, target_train, target_valid):\n",
    "    model = LinearRegression()\n",
    "    model.fit(features_train, target_train)\n",
    "    predictions = model.predict(features_valid)\n",
    "    rmse = mean_squared_error(target_valid, predictions, squared=False)\n",
    "    return predictions, rmse"
   ]
  },
  {
   "cell_type": "markdown",
   "metadata": {},
   "source": [
    "### Evaluación de Modelo:"
   ]
  },
  {
   "cell_type": "code",
   "execution_count": 17,
   "metadata": {},
   "outputs": [],
   "source": [
    "# Función para calcular el volumen promedio de reservas:\n",
    "\n",
    "def evaluar_modelo(target_valid, predictions):\n",
    "    promedio_reservas = predictions.mean()\n",
    "    return promedio_reservas"
   ]
  },
  {
   "cell_type": "markdown",
   "metadata": {},
   "source": [
    "### Ejecución de Modelo para cada región:"
   ]
  },
  {
   "cell_type": "code",
   "execution_count": 18,
   "metadata": {},
   "outputs": [
    {
     "ename": "TypeError",
     "evalue": "got an unexpected keyword argument 'squared'",
     "output_type": "error",
     "traceback": [
      "\u001b[31m---------------------------------------------------------------------------\u001b[39m",
      "\u001b[31mTypeError\u001b[39m                                 Traceback (most recent call last)",
      "\u001b[36mCell\u001b[39m\u001b[36m \u001b[39m\u001b[32mIn[18]\u001b[39m\u001b[32m, line 5\u001b[39m\n\u001b[32m      3\u001b[39m \u001b[38;5;28;01mfor\u001b[39;00m i, data \u001b[38;5;129;01min\u001b[39;00m \u001b[38;5;28menumerate\u001b[39m([geo_0, geo_1, geo_2]):\n\u001b[32m      4\u001b[39m     features_train, features_valid, target_train, target_valid = preparar_datos(data)\n\u001b[32m----> \u001b[39m\u001b[32m5\u001b[39m     predictions, rmse = \u001b[43mentrenar_modelo\u001b[49m\u001b[43m(\u001b[49m\u001b[43mfeatures_train\u001b[49m\u001b[43m,\u001b[49m\u001b[43m \u001b[49m\u001b[43mfeatures_valid\u001b[49m\u001b[43m,\u001b[49m\u001b[43m \u001b[49m\u001b[43mtarget_train\u001b[49m\u001b[43m,\u001b[49m\u001b[43m \u001b[49m\u001b[43mtarget_valid\u001b[49m\u001b[43m)\u001b[49m\n\u001b[32m      6\u001b[39m     promedio_reservas = evaluar_modelo(target_valid, predictions)\n\u001b[32m      8\u001b[39m     \u001b[38;5;66;03m#print(f\"Región {i}:\")\u001b[39;00m\n\u001b[32m      9\u001b[39m     \u001b[38;5;66;03m#print(f\" - RMSE: {rmse}\")\u001b[39;00m\n\u001b[32m     10\u001b[39m     \u001b[38;5;66;03m#print(f\" - Promedio de reservas: {promedio_reservas}\")\u001b[39;00m\n",
      "\u001b[36mCell\u001b[39m\u001b[36m \u001b[39m\u001b[32mIn[16]\u001b[39m\u001b[32m, line 7\u001b[39m, in \u001b[36mentrenar_modelo\u001b[39m\u001b[34m(features_train, features_valid, target_train, target_valid)\u001b[39m\n\u001b[32m      5\u001b[39m model.fit(features_train, target_train)\n\u001b[32m      6\u001b[39m predictions = model.predict(features_valid)\n\u001b[32m----> \u001b[39m\u001b[32m7\u001b[39m rmse = \u001b[43mmean_squared_error\u001b[49m\u001b[43m(\u001b[49m\u001b[43mtarget_valid\u001b[49m\u001b[43m,\u001b[49m\u001b[43m \u001b[49m\u001b[43mpredictions\u001b[49m\u001b[43m,\u001b[49m\u001b[43m \u001b[49m\u001b[43msquared\u001b[49m\u001b[43m=\u001b[49m\u001b[38;5;28;43;01mFalse\u001b[39;49;00m\u001b[43m)\u001b[49m\n\u001b[32m      8\u001b[39m \u001b[38;5;28;01mreturn\u001b[39;00m predictions, rmse\n",
      "\u001b[36mFile \u001b[39m\u001b[32mc:\\Users\\Home\\AppData\\Local\\Programs\\Python\\Python312\\Lib\\site-packages\\sklearn\\utils\\_param_validation.py:194\u001b[39m, in \u001b[36mvalidate_params.<locals>.decorator.<locals>.wrapper\u001b[39m\u001b[34m(*args, **kwargs)\u001b[39m\n\u001b[32m    191\u001b[39m func_sig = signature(func)\n\u001b[32m    193\u001b[39m \u001b[38;5;66;03m# Map *args/**kwargs to the function signature\u001b[39;00m\n\u001b[32m--> \u001b[39m\u001b[32m194\u001b[39m params = \u001b[43mfunc_sig\u001b[49m\u001b[43m.\u001b[49m\u001b[43mbind\u001b[49m\u001b[43m(\u001b[49m\u001b[43m*\u001b[49m\u001b[43margs\u001b[49m\u001b[43m,\u001b[49m\u001b[43m \u001b[49m\u001b[43m*\u001b[49m\u001b[43m*\u001b[49m\u001b[43mkwargs\u001b[49m\u001b[43m)\u001b[49m\n\u001b[32m    195\u001b[39m params.apply_defaults()\n\u001b[32m    197\u001b[39m \u001b[38;5;66;03m# ignore self/cls and positional/keyword markers\u001b[39;00m\n",
      "\u001b[36mFile \u001b[39m\u001b[32mc:\\Users\\Home\\AppData\\Local\\Programs\\Python\\Python312\\Lib\\inspect.py:3242\u001b[39m, in \u001b[36mSignature.bind\u001b[39m\u001b[34m(self, *args, **kwargs)\u001b[39m\n\u001b[32m   3237\u001b[39m \u001b[38;5;28;01mdef\u001b[39;00m \u001b[34mbind\u001b[39m(\u001b[38;5;28mself\u001b[39m, /, *args, **kwargs):\n\u001b[32m   3238\u001b[39m \u001b[38;5;250m    \u001b[39m\u001b[33;03m\"\"\"Get a BoundArguments object, that maps the passed `args`\u001b[39;00m\n\u001b[32m   3239\u001b[39m \u001b[33;03m    and `kwargs` to the function's signature.  Raises `TypeError`\u001b[39;00m\n\u001b[32m   3240\u001b[39m \u001b[33;03m    if the passed arguments can not be bound.\u001b[39;00m\n\u001b[32m   3241\u001b[39m \u001b[33;03m    \"\"\"\u001b[39;00m\n\u001b[32m-> \u001b[39m\u001b[32m3242\u001b[39m     \u001b[38;5;28;01mreturn\u001b[39;00m \u001b[38;5;28;43mself\u001b[39;49m\u001b[43m.\u001b[49m\u001b[43m_bind\u001b[49m\u001b[43m(\u001b[49m\u001b[43margs\u001b[49m\u001b[43m,\u001b[49m\u001b[43m \u001b[49m\u001b[43mkwargs\u001b[49m\u001b[43m)\u001b[49m\n",
      "\u001b[36mFile \u001b[39m\u001b[32mc:\\Users\\Home\\AppData\\Local\\Programs\\Python\\Python312\\Lib\\inspect.py:3231\u001b[39m, in \u001b[36mSignature._bind\u001b[39m\u001b[34m(self, args, kwargs, partial)\u001b[39m\n\u001b[32m   3229\u001b[39m         arguments[kwargs_param.name] = kwargs\n\u001b[32m   3230\u001b[39m     \u001b[38;5;28;01melse\u001b[39;00m:\n\u001b[32m-> \u001b[39m\u001b[32m3231\u001b[39m         \u001b[38;5;28;01mraise\u001b[39;00m \u001b[38;5;167;01mTypeError\u001b[39;00m(\n\u001b[32m   3232\u001b[39m             \u001b[33m'\u001b[39m\u001b[33mgot an unexpected keyword argument \u001b[39m\u001b[38;5;132;01m{arg!r}\u001b[39;00m\u001b[33m'\u001b[39m.format(\n\u001b[32m   3233\u001b[39m                 arg=\u001b[38;5;28mnext\u001b[39m(\u001b[38;5;28miter\u001b[39m(kwargs))))\n\u001b[32m   3235\u001b[39m \u001b[38;5;28;01mreturn\u001b[39;00m \u001b[38;5;28mself\u001b[39m._bound_arguments_cls(\u001b[38;5;28mself\u001b[39m, arguments)\n",
      "\u001b[31mTypeError\u001b[39m: got an unexpected keyword argument 'squared'"
     ]
    }
   ],
   "source": [
    "# Ejecutar modelo para cada región:\n",
    "\n",
    "for i, data in enumerate([geo_0, geo_1, geo_2]):\n",
    "    features_train, features_valid, target_train, target_valid = preparar_datos(data)\n",
    "    predictions, rmse = entrenar_modelo(features_train, features_valid, target_train, target_valid)\n",
    "    promedio_reservas = evaluar_modelo(target_valid, predictions)\n",
    "    \n",
    "    #print(f\"Región {i}:\")\n",
    "    #print(f\" - RMSE: {rmse}\")\n",
    "    #print(f\" - Promedio de reservas: {promedio_reservas}\")\n",
    "    print(f\"Región {i}: RMSE = {rmse:.2f}, Volumen medio de reservas predicho = {promedio_reservas:.2f}\")"
   ]
  },
  {
   "cell_type": "markdown",
   "metadata": {},
   "source": [
    "### Analisis: (Por cada región)"
   ]
  },
  {
   "cell_type": "markdown",
   "metadata": {},
   "source": [
    "\n",
    "* Región 0\n",
    "\n",
    "RMSE = 37.52: Este valor de RMSE es alto, lo que indica que el modelo tiene las predicciones no muy precisas, lo que puede agregar incertidumbre al cálculo de beneficios potenciales.\n",
    "Volumen medio de reservas = 92.53: Este volumen está por debajo del umbral mínimo de rentabilidad (111.1 unidades), lo que implica un riesgo de inversión.\n",
    "Aunque el volumen medio de reservas es relativamente alto en comparación con la Región 1, su imprecisión en la predicción (alto RMSE) y el volumen bajo respecto al umbral hacen que esta región no sea muy atractiva.  \n",
    "\n",
    "* Región 1\n",
    "\n",
    "RMSE = 0.89: Este es un valor extremadamente bajo, lo cual indica una excelente precisión del modelo. La baja variabilidad sugiere que el modelo predice las reservas con mucha confianza en esta región.\n",
    "Volumen medio de reservas = 69.26: Este volumen es considerablemente inferior al umbral de 111.1 unidades, lo que indica que,  los pozos en esta región generarían menos de los ingresos necesarios para evitar pérdidas.\n",
    "Aunque la precisión del modelo es excelente, el volumen de reservas es muy bajo, lo que implica que los pozos en esta región probablemente no sean rentables.  \n",
    "\n",
    "* Región 2\n",
    "\n",
    "RMSE = 40.00: Este RMSE es el más alto entre las tres regiones, lo cual significa que las predicciones tienen una gran dispersión respecto a los valores reales. Esto sugiere un alto nivel de incertidumbre en la predicción del volumen de reservas.\n",
    "Volumen medio de reservas = 95.17: Aunque es el más alto entre las tres regiones, este volumen todavía se encuentra por debajo del umbral de rentabilidad. Sin embargo, está más cerca del umbral de 111.1 unidades en comparación con las otras regiones.\n",
    "Aunque la precisión es baja, la Región 2 tiene el volumen medio de reservas más alto entre las tres."
   ]
  },
  {
   "cell_type": "markdown",
   "metadata": {},
   "source": [
    "## Determinación de las ganancias :"
   ]
  },
  {
   "cell_type": "markdown",
   "metadata": {},
   "source": [
    "###  Almacenar los valores necesarios:"
   ]
  },
  {
   "cell_type": "code",
   "execution_count": null,
   "metadata": {},
   "outputs": [],
   "source": [
    "# Parámetros financieros:\n",
    "\n",
    "presupuesto = 100000000\n",
    "pozos_a_seleccionar = 200\n",
    "ingreso_por_unidad = 4500  # en miles de barriles\n",
    "min_unidades_sin_perdidas = 111.1  # Equivalente a $500,000"
   ]
  },
  {
   "cell_type": "code",
   "execution_count": null,
   "metadata": {},
   "outputs": [],
   "source": [
    "# Cálculo de beneficio por región:\n",
    "\n",
    "def calcular_ganancia(predicciones):\n",
    "    mejores_pozos = np.sort(predicciones)[-pozos_a_seleccionar:]\n",
    "    ganancia_total = mejores_pozos.sum() * ingreso_por_unidad\n",
    "    return ganancia_total"
   ]
  },
  {
   "cell_type": "code",
   "execution_count": null,
   "metadata": {},
   "outputs": [],
   "source": [
    "# Calcular y comparar ganancias potenciales:\n",
    "\n",
    "ganancias_regiones = []\n",
    "\n",
    "for i, data in enumerate([geo_0, geo_1, geo_2]):\n",
    "    _, features_valid, _, target_valid = preparar_datos(data)\n",
    "    predictions, _ = entrenar_modelo(features_train, features_valid, target_train, target_valid)\n",
    "    ganancia = calcular_ganancia(predictions)\n",
    "    ganancias_regiones.append((ganancia, i))"
   ]
  },
  {
   "cell_type": "code",
   "execution_count": null,
   "metadata": {},
   "outputs": [
    {
     "name": "stdout",
     "output_type": "stream",
     "text": [
      "La mejor región es la Región 2 con una ganancia estimada de 134,223,749.34 USD\n"
     ]
    }
   ],
   "source": [
    "# Selección de la región más rentable\n",
    "mejor_region = max(ganancias_regiones, key=lambda x: x[0])\n",
    "print(f\"La mejor región es la Región {mejor_region[1]} con una ganancia estimada de {mejor_region[0]:,.2f} USD\")"
   ]
  },
  {
   "cell_type": "code",
   "execution_count": null,
   "metadata": {},
   "outputs": [],
   "source": [
    "# Función de bootstrapping para evaluar el riesgo de pérdidas:\n",
    "\n",
    "def bootstrap_analisis(predicciones, n_simulaciones=1000):\n",
    "    bootstrap_res = bootstrap((predicciones,), np.mean, confidence_level=0.95, n_resamples=n_simulaciones, method='basic')\n",
    "    beneficio_promedio = bootstrap_res.confidence_interval[0] * ingreso_por_unidad\n",
    "    perdida_probabilidad = (predicciones < 111.1).mean()\n",
    "    return beneficio_promedio, perdida_probabilidad"
   ]
  },
  {
   "cell_type": "code",
   "execution_count": null,
   "metadata": {},
   "outputs": [
    {
     "name": "stdout",
     "output_type": "stream",
     "text": [
      "Región 0:\n",
      " - Beneficio Promedio: 426182.08251736336\n",
      " - Probabilidad de pérdida: 80.19%\n",
      "Región 1:\n",
      " - Beneficio Promedio: 428741.8021983392\n",
      " - Probabilidad de pérdida: 99.89%\n",
      "Región 2:\n",
      " - Beneficio Promedio: 426953.10654881014\n",
      " - Probabilidad de pérdida: 78.44%\n"
     ]
    }
   ],
   "source": [
    "# Aplicación de análisis de riesgo para cada región\n",
    "for i, data in enumerate([geo_0, geo_1, geo_2]):\n",
    "    _, features_valid, _, target_valid = preparar_datos(data)\n",
    "    predictions, _ = entrenar_modelo(features_train, features_valid, target_train, target_valid)\n",
    "    beneficio_promedio, perdida_probabilidad = bootstrap_analisis(predictions)\n",
    "    print(f\"Región {i}:\")\n",
    "    print(f\" - Beneficio Promedio: {beneficio_promedio}\")\n",
    "    print(f\" - Probabilidad de pérdida: {perdida_probabilidad:.2%}\")"
   ]
  }
 ],
 "metadata": {
  "ExecuteTimeLog": [
   {
    "duration": 3,
    "start_time": "2024-10-30T03:30:14.237Z"
   },
   {
    "duration": 823,
    "start_time": "2024-10-30T03:31:11.889Z"
   },
   {
    "duration": 2,
    "start_time": "2024-10-30T03:32:10.965Z"
   },
   {
    "duration": 216,
    "start_time": "2024-10-30T03:33:06.304Z"
   },
   {
    "duration": 417,
    "start_time": "2024-10-30T03:33:09.434Z"
   },
   {
    "duration": 63,
    "start_time": "2024-10-30T03:33:29.102Z"
   },
   {
    "duration": 62,
    "start_time": "2024-10-30T03:34:10.257Z"
   },
   {
    "duration": 64,
    "start_time": "2024-10-30T03:35:27.103Z"
   },
   {
    "duration": 64,
    "start_time": "2024-10-30T03:35:50.946Z"
   },
   {
    "duration": 64,
    "start_time": "2024-10-30T03:37:36.833Z"
   },
   {
    "duration": 790,
    "start_time": "2024-10-30T23:44:10.966Z"
   },
   {
    "duration": 573,
    "start_time": "2024-10-30T23:44:12.115Z"
   },
   {
    "duration": 0,
    "start_time": "2024-10-30T23:44:12.690Z"
   },
   {
    "duration": 64,
    "start_time": "2024-10-30T23:44:56.225Z"
   },
   {
    "duration": 59,
    "start_time": "2024-10-30T23:45:16.591Z"
   },
   {
    "duration": 61,
    "start_time": "2024-10-30T23:47:09.110Z"
   },
   {
    "duration": 61,
    "start_time": "2024-10-30T23:47:47.722Z"
   },
   {
    "duration": 60,
    "start_time": "2024-10-30T23:50:28.131Z"
   },
   {
    "duration": 64,
    "start_time": "2024-10-30T23:51:47.126Z"
   },
   {
    "duration": 60,
    "start_time": "2024-10-30T23:52:23.983Z"
   },
   {
    "duration": 326,
    "start_time": "2024-10-30T23:56:10.569Z"
   },
   {
    "duration": 14,
    "start_time": "2024-10-30T23:59:45.991Z"
   },
   {
    "duration": 213,
    "start_time": "2024-10-31T00:00:06.501Z"
   },
   {
    "duration": 25,
    "start_time": "2024-10-31T00:00:24.067Z"
   },
   {
    "duration": 26,
    "start_time": "2024-10-31T00:02:56.945Z"
   },
   {
    "duration": 25,
    "start_time": "2024-10-31T00:05:00.670Z"
   },
   {
    "duration": 57,
    "start_time": "2024-10-31T00:05:31.191Z"
   },
   {
    "duration": 55,
    "start_time": "2024-10-31T00:05:44.246Z"
   },
   {
    "duration": 24,
    "start_time": "2024-10-31T00:05:55.653Z"
   },
   {
    "duration": 24,
    "start_time": "2024-10-31T00:06:06.808Z"
   },
   {
    "duration": 31,
    "start_time": "2024-10-31T00:07:56.949Z"
   },
   {
    "duration": 34,
    "start_time": "2024-10-31T00:08:05.650Z"
   },
   {
    "duration": 31,
    "start_time": "2024-10-31T00:08:13.375Z"
   },
   {
    "duration": 9,
    "start_time": "2024-10-31T00:08:46.298Z"
   },
   {
    "duration": 9,
    "start_time": "2024-10-31T00:08:57.891Z"
   },
   {
    "duration": 9,
    "start_time": "2024-10-31T00:09:03.205Z"
   },
   {
    "duration": 4,
    "start_time": "2024-10-31T00:46:39.252Z"
   },
   {
    "duration": 3,
    "start_time": "2024-10-31T00:47:26.743Z"
   },
   {
    "duration": 3,
    "start_time": "2024-10-31T00:48:20.372Z"
   },
   {
    "duration": 3,
    "start_time": "2024-10-31T01:05:36.959Z"
   },
   {
    "duration": 3,
    "start_time": "2024-10-31T01:05:50.870Z"
   },
   {
    "duration": 3,
    "start_time": "2024-10-31T01:15:14.445Z"
   },
   {
    "duration": 7,
    "start_time": "2024-10-31T01:18:00.713Z"
   },
   {
    "duration": 3,
    "start_time": "2024-10-31T01:18:54.737Z"
   },
   {
    "duration": 3,
    "start_time": "2024-10-31T01:20:30.920Z"
   },
   {
    "duration": 3,
    "start_time": "2024-10-31T01:22:07.416Z"
   },
   {
    "duration": 3,
    "start_time": "2024-10-31T01:23:01.951Z"
   },
   {
    "duration": 114,
    "start_time": "2024-10-31T01:26:05.635Z"
   },
   {
    "duration": 3,
    "start_time": "2024-10-31T01:27:04.863Z"
   },
   {
    "duration": 3,
    "start_time": "2024-10-31T01:28:00.910Z"
   },
   {
    "duration": 101,
    "start_time": "2024-10-31T01:30:06.348Z"
   },
   {
    "duration": 3,
    "start_time": "2024-10-31T01:30:47.164Z"
   },
   {
    "duration": 3,
    "start_time": "2024-10-31T01:41:10.290Z"
   },
   {
    "duration": 3,
    "start_time": "2024-10-31T01:41:41.908Z"
   },
   {
    "duration": 24,
    "start_time": "2024-10-31T01:41:53.414Z"
   },
   {
    "duration": 1214,
    "start_time": "2024-10-31T01:43:01.391Z"
   },
   {
    "duration": 44,
    "start_time": "2024-10-31T01:54:31.515Z"
   },
   {
    "duration": 115,
    "start_time": "2024-10-31T01:54:39.334Z"
   },
   {
    "duration": 2,
    "start_time": "2024-10-31T02:12:37.416Z"
   },
   {
    "duration": 17,
    "start_time": "2024-10-31T02:13:23.943Z"
   },
   {
    "duration": 17,
    "start_time": "2024-10-31T02:14:00.123Z"
   },
   {
    "duration": 3,
    "start_time": "2024-10-31T03:29:19.510Z"
   },
   {
    "duration": 2,
    "start_time": "2024-10-31T03:29:23.187Z"
   },
   {
    "duration": 3,
    "start_time": "2024-10-31T03:40:44.081Z"
   },
   {
    "duration": 10,
    "start_time": "2024-10-31T03:48:42.013Z"
   },
   {
    "duration": 4,
    "start_time": "2024-10-31T03:48:46.300Z"
   },
   {
    "duration": 25,
    "start_time": "2024-10-31T03:48:48.536Z"
   },
   {
    "duration": 4,
    "start_time": "2024-10-31T03:49:37.199Z"
   },
   {
    "duration": 115,
    "start_time": "2024-10-31T03:49:39.822Z"
   },
   {
    "duration": 221,
    "start_time": "2024-10-31T03:51:23.427Z"
   },
   {
    "duration": 234,
    "start_time": "2024-10-31T03:51:57.158Z"
   },
   {
    "duration": 6,
    "start_time": "2024-10-31T03:52:38.054Z"
   },
   {
    "duration": 101,
    "start_time": "2024-10-31T03:52:41.743Z"
   },
   {
    "duration": 4,
    "start_time": "2024-10-31T03:53:40.356Z"
   },
   {
    "duration": 16,
    "start_time": "2024-10-31T03:53:42.265Z"
   },
   {
    "duration": 18,
    "start_time": "2024-10-31T03:53:54.545Z"
   },
   {
    "duration": 19,
    "start_time": "2024-10-31T03:54:14.262Z"
   },
   {
    "duration": 20,
    "start_time": "2024-10-31T03:54:48.898Z"
   },
   {
    "duration": 30,
    "start_time": "2024-10-31T03:54:55.677Z"
   },
   {
    "duration": 3,
    "start_time": "2024-10-31T03:56:31.179Z"
   },
   {
    "duration": 3,
    "start_time": "2024-10-31T03:56:33.929Z"
   },
   {
    "duration": 3,
    "start_time": "2024-10-31T03:56:36.982Z"
   },
   {
    "duration": 73,
    "start_time": "2024-10-31T03:56:39.779Z"
   },
   {
    "duration": 3,
    "start_time": "2024-10-31T03:59:06.332Z"
   },
   {
    "duration": 15,
    "start_time": "2024-10-31T03:59:10.023Z"
   },
   {
    "duration": 3,
    "start_time": "2024-10-31T03:59:55.302Z"
   },
   {
    "duration": 14,
    "start_time": "2024-10-31T03:59:58.975Z"
   },
   {
    "duration": 3,
    "start_time": "2024-10-31T04:00:47.463Z"
   },
   {
    "duration": 98,
    "start_time": "2024-10-31T04:00:50.157Z"
   },
   {
    "duration": 6,
    "start_time": "2024-10-31T04:00:53.329Z"
   },
   {
    "duration": 765,
    "start_time": "2024-11-01T03:02:41.125Z"
   },
   {
    "duration": 299,
    "start_time": "2024-11-01T03:02:41.892Z"
   },
   {
    "duration": 21,
    "start_time": "2024-11-01T03:02:42.192Z"
   },
   {
    "duration": 26,
    "start_time": "2024-11-01T03:02:42.215Z"
   },
   {
    "duration": 47,
    "start_time": "2024-11-01T03:02:42.243Z"
   },
   {
    "duration": 24,
    "start_time": "2024-11-01T03:02:42.292Z"
   },
   {
    "duration": 25,
    "start_time": "2024-11-01T03:02:42.317Z"
   },
   {
    "duration": 51,
    "start_time": "2024-11-01T03:02:42.343Z"
   },
   {
    "duration": 30,
    "start_time": "2024-11-01T03:02:42.395Z"
   },
   {
    "duration": 50,
    "start_time": "2024-11-01T03:02:42.428Z"
   },
   {
    "duration": 7,
    "start_time": "2024-11-01T03:02:42.480Z"
   },
   {
    "duration": 18,
    "start_time": "2024-11-01T03:02:42.489Z"
   },
   {
    "duration": 20,
    "start_time": "2024-11-01T03:02:42.509Z"
   },
   {
    "duration": 3,
    "start_time": "2024-11-01T03:02:42.530Z"
   },
   {
    "duration": 3,
    "start_time": "2024-11-01T03:02:42.535Z"
   },
   {
    "duration": 4,
    "start_time": "2024-11-01T03:02:42.540Z"
   },
   {
    "duration": 2,
    "start_time": "2024-11-01T03:02:42.545Z"
   },
   {
    "duration": 129,
    "start_time": "2024-11-01T03:02:42.549Z"
   },
   {
    "duration": 4,
    "start_time": "2024-11-01T03:02:42.680Z"
   },
   {
    "duration": 3,
    "start_time": "2024-11-01T03:02:42.686Z"
   },
   {
    "duration": 196,
    "start_time": "2024-11-01T03:02:42.691Z"
   },
   {
    "duration": 7,
    "start_time": "2024-11-01T03:02:42.889Z"
   },
   {
    "duration": 4,
    "start_time": "2024-11-01T03:02:42.971Z"
   },
   {
    "duration": 1233,
    "start_time": "2024-11-01T03:02:42.979Z"
   }
  ],
  "kernelspec": {
   "display_name": "Python 3",
   "language": "python",
   "name": "python3"
  },
  "language_info": {
   "codemirror_mode": {
    "name": "ipython",
    "version": 3
   },
   "file_extension": ".py",
   "mimetype": "text/x-python",
   "name": "python",
   "nbconvert_exporter": "python",
   "pygments_lexer": "ipython3",
   "version": "3.12.3"
  },
  "toc": {
   "base_numbering": 1,
   "nav_menu": {},
   "number_sections": true,
   "sideBar": true,
   "skip_h1_title": true,
   "title_cell": "Table of Contents",
   "title_sidebar": "Contents",
   "toc_cell": false,
   "toc_position": {},
   "toc_section_display": true,
   "toc_window_display": false
  }
 },
 "nbformat": 4,
 "nbformat_minor": 2
}
